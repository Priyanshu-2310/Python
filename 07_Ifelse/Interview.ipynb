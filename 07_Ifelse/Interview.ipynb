{
 "cells": [
  {
   "cell_type": "code",
   "execution_count": 5,
   "id": "0df1cd4a",
   "metadata": {},
   "outputs": [
    {
     "name": "stdout",
     "output_type": "stream",
     "text": [
      "armstrong\n"
     ]
    }
   ],
   "source": [
    "# Write a Python function to check if a number is Armstrong (e.g. 153 → 1³+5³+3³ = 153).\n",
    "\n",
    "num = int(input(\"Enter the number = \"))\n",
    "\n",
    "def check(num):\n",
    "    sum = 0\n",
    "    while(num > 0):\n",
    "        digit = num % 10\n",
    "        cub = pow(digit, 3)\n",
    "        sum = sum + cub\n",
    "        num = int(num/10)\n",
    "\n",
    "    return sum\n",
    "\n",
    "\n",
    "result = check(num)\n",
    "\n",
    "if(num == result):\n",
    "    print('armstrong')\n",
    "\n",
    "else: \n",
    "    print(\"not armstrong\")"
   ]
  },
  {
   "cell_type": "code",
   "execution_count": null,
   "id": "0ff2e35a",
   "metadata": {},
   "outputs": [],
   "source": [
    "# Implement logic to determine if a given year, month, and day is a valid date.\n",
    "\n",
    "year = int(input(\"enter your year\"))\n",
    "month = int(input(\"Enter the value of month\"))\n",
    "day = int(input(\"enter Your day\"))\n",
    "\n",
    "if(month >= 1 and month <=12):\n",
    "    if(month == 2):\n",
    "        if(year % 4 == 0):\n",
    "            if(day>=1 and day<=29):\n",
    "                print(\"valid date and it is leap year\")\n",
    "            else:\n",
    "                print(\"Invalid date\")\n",
    "        \n",
    "        else: \n",
    "            if(day>=1 and day<=28):\n",
    "                print(\"valid date and it is leap year\")\n",
    "            else:\n",
    "                print(\"Invalid date\")\n",
    "\n",
    "    elif(month % 2 == 0):\n",
    "        if(day>=1 and day<=30):\n",
    "            print(\"valid date\")\n",
    "        \n",
    "        else:\n",
    "            print(\"Invalid date\")\n",
    "\n",
    "    else:\n",
    "        if(day>=1 and day<=31):\n",
    "            print(\"valid date\")\n",
    "        \n",
    "        else:\n",
    "            print(\"Invalid date\")\n",
    "\n",
    "else:\n",
    "    print(\"month is invalid\")"
   ]
  },
  {
   "cell_type": "code",
   "execution_count": 11,
   "id": "04839d5c",
   "metadata": {},
   "outputs": [
    {
     "data": {
      "text/plain": [
       "True"
      ]
     },
     "execution_count": 11,
     "metadata": {},
     "output_type": "execute_result"
    }
   ],
   "source": [
    "# Create a function to check if a number is prime using basic if-els\n",
    "\n",
    "num = int(input(\"Enter your number = \"))\n",
    "\n",
    "def checkprime(num):\n",
    "    if(num == 1):\n",
    "        return False\n",
    "\n",
    "    elif(num == 2):\n",
    "        return True\n",
    "    \n",
    "    else:\n",
    "        for i in range (2, int(num/2)):\n",
    "            if(num % i == 0):\n",
    "                return False\n",
    "        \n",
    "        return True\n",
    "\n",
    "\n",
    "checkprime(num)\n"
   ]
  },
  {
   "cell_type": "code",
   "execution_count": 17,
   "id": "541938a8",
   "metadata": {},
   "outputs": [
    {
     "name": "stdout",
     "output_type": "stream",
     "text": [
      "'H' is an Uppercase letter.\n"
     ]
    }
   ],
   "source": [
    "# Given a character, identify if it's an uppercase, lowercase, digit, or special character.\n",
    "\n",
    "def check_character(char):\n",
    "    if char.isupper():\n",
    "        print(f\"'{char}' is an Uppercase letter.\")\n",
    "    elif char.islower():\n",
    "        print(f\"'{char}' is a Lowercase letter.\")\n",
    "    elif char.isdigit():\n",
    "        print(f\"'{char}' is a Digit.\")\n",
    "    else:\n",
    "        print(f\"'{char}' is a Special character.\")\n",
    "\n",
    "# Example usage:\n",
    "ch = input(\"Enter a single character: \")\n",
    "\n",
    "if len(ch) == 1:\n",
    "    check_character(ch)\n",
    "else:\n",
    "    print(\"Please enter only one character.\")\n"
   ]
  }
 ],
 "metadata": {
  "kernelspec": {
   "display_name": "Python 3",
   "language": "python",
   "name": "python3"
  },
  "language_info": {
   "codemirror_mode": {
    "name": "ipython",
    "version": 3
   },
   "file_extension": ".py",
   "mimetype": "text/x-python",
   "name": "python",
   "nbconvert_exporter": "python",
   "pygments_lexer": "ipython3",
   "version": "3.12.8"
  }
 },
 "nbformat": 4,
 "nbformat_minor": 5
}
