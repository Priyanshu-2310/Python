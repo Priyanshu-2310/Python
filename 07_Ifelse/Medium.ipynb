{
 "cells": [
  {
   "cell_type": "code",
   "execution_count": 3,
   "id": "18515710",
   "metadata": {},
   "outputs": [
    {
     "name": "stdout",
     "output_type": "stream",
     "text": [
      "Number is odd\n"
     ]
    }
   ],
   "source": [
    "# Write a Python program to check whether a number is even or odd without using the modulus operator.\n",
    "\n",
    "num = int(input('Enter Your Number : '))\n",
    "\n",
    "if num & 1 == 0:\n",
    "    print(\"number is even\")\n",
    "\n",
    "else:\n",
    "    print(\"Number is odd\")"
   ]
  },
  {
   "cell_type": "code",
   "execution_count": null,
   "id": "ee6c5096",
   "metadata": {},
   "outputs": [],
   "source": [
    "# Given a year, determine if it is a leap year or not.\n",
    "\n",
    "year = int(input(\"Enter the year\"))\n",
    "\n",
    "if year % 4 == 0:\n",
    "    print(\"Leap Year\")\n",
    "\n",
    "else: \n",
    "    print(\"Not Leap Year\")"
   ]
  },
  {
   "cell_type": "code",
   "execution_count": null,
   "id": "6104a596",
   "metadata": {},
   "outputs": [],
   "source": [
    "# Write a Python script to check if a character is a vowel or consonant.\n",
    "\n",
    "character = input(\"enter the character\")\n",
    "\n",
    "if character == 'a' or character == 'e' or character =='i' or character == 'o' or character == 'u':\n",
    "    print(\"Vowel\")\n",
    "\n",
    "else:\n",
    "    print(\"consonant\")"
   ]
  },
  {
   "cell_type": "code",
   "execution_count": null,
   "id": "fb6fcf67",
   "metadata": {},
   "outputs": [],
   "source": [
    "# Write a program that checks if a number is positive, negative, or zero.\n",
    "\n",
    "num = int(input(\"Enter Your Number = \"))\n",
    "\n",
    "if(num > 0):\n",
    "    print(\"Positive\")\n",
    "\n",
    "elif(num<0):\n",
    "    print(\"Negative\")\n",
    "\n",
    "else: \n",
    "    print(\"Number is zero\")"
   ]
  },
  {
   "cell_type": "code",
   "execution_count": 5,
   "id": "8a8535bc",
   "metadata": {},
   "outputs": [
    {
     "name": "stdout",
     "output_type": "stream",
     "text": [
      "Last digit is not same\n"
     ]
    }
   ],
   "source": [
    "# Write a Python program to check if the last digit of three given numbers is the same.\n",
    "\n",
    "num1 = int(input(\"Enter Your Number = \"))\n",
    "num2 = int(input(\"Enter Your Number = \"))\n",
    "num3 = int(input(\"Enter Your Number = \"))\n",
    "\n",
    "if (num1 % 10) == (num2 % 10)  and  (num2 % 10) == (num3 % 10):\n",
    "    print(\"Last digit is same\")\n",
    "\n",
    "else: \n",
    "    print(\"Last digit is not same\")"
   ]
  },
  {
   "cell_type": "code",
   "execution_count": null,
   "id": "45ad9faa",
   "metadata": {},
   "outputs": [],
   "source": [
    "# Given three sides of a triangle, check whether it forms an equilateral, isosceles, or scalene triangle.\n",
    "\n",
    "side1 = int(input(\"Enter first side = \"))\n",
    "side2 = int(input(\"Enter second side = \"))\n",
    "side3 = int(input(\"Enter third side = \"))\n",
    "\n",
    "if(side1 == side2) and (side2 == side3):\n",
    "    print(\"Equilateral tringle\")\n",
    "\n",
    "elif(side1 == side2) or (side2 == side1) or (side1 == side3):\n",
    "    print(\"Isosceles Trignle\")\n",
    "\n",
    "else:\n",
    "    print(\"scalane\")\n",
    "\n"
   ]
  }
 ],
 "metadata": {
  "kernelspec": {
   "display_name": "Python 3",
   "language": "python",
   "name": "python3"
  },
  "language_info": {
   "codemirror_mode": {
    "name": "ipython",
    "version": 3
   },
   "file_extension": ".py",
   "mimetype": "text/x-python",
   "name": "python",
   "nbconvert_exporter": "python",
   "pygments_lexer": "ipython3",
   "version": "3.12.8"
  }
 },
 "nbformat": 4,
 "nbformat_minor": 5
}
