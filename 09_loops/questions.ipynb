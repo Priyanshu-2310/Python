{
 "cells": [
  {
   "cell_type": "code",
   "execution_count": 7,
   "id": "4123b40e",
   "metadata": {},
   "outputs": [
    {
     "name": "stdout",
     "output_type": "stream",
     "text": [
      "[1, 2, 3, 5, 7, 11, 13, 17, 19, 23, 29, 31, 37, 41, 43, 47]\n"
     ]
    }
   ],
   "source": [
    "# Find the first N prime numbers\n",
    "\n",
    "num = int(input(\"Enter Your Number = \"))\n",
    "primenums = []\n",
    "\n",
    "for i in range(1, num):\n",
    "    check = False\n",
    "    for j in range(2, i):\n",
    "        if(i == 1):\n",
    "            continue\n",
    "\n",
    "        elif(i%j == 0):\n",
    "            check = True\n",
    "    \n",
    "    if(check==False):\n",
    "        primenums.append(i)\n",
    "\n",
    "\n",
    "print(primenums)\n"
   ]
  },
  {
   "cell_type": "code",
   "execution_count": null,
   "id": "79d2426f",
   "metadata": {},
   "outputs": [
    {
     "name": "stdout",
     "output_type": "stream",
     "text": [
      "28\n"
     ]
    }
   ],
   "source": [
    "# Check if a number is a perfect number (sum of factors excluding itself equals the number)\n",
    "\n",
    "num = int(input(\"Enter your Number = \"))\n",
    "sum = 0\n",
    "\n",
    "for x in range(1, num):\n",
    "    if(num%x == 0):\n",
    "        sum+=x\n",
    "\n",
    "if(sum == num):\n",
    "    print(\"Perfect Number\")\n",
    "\n",
    "else:\n",
    "    print(\"Not Perfect Number\")\n"
   ]
  },
  {
   "cell_type": "code",
   "execution_count": 10,
   "id": "cfc6249c",
   "metadata": {},
   "outputs": [
    {
     "name": "stdout",
     "output_type": "stream",
     "text": [
      "20.80641024327701\n"
     ]
    }
   ],
   "source": [
    "# Find the number of trailing zeros in N!\n",
    "\n",
    "factorialnumber = int(input(\"Enter your Number = \"))\n",
    "\n",
    "n = 5\n",
    "sum = 0\n",
    "power = 1\n",
    "\n",
    "while(factorialnumber != 0):\n",
    "    factorialnumber = factorialnumber / n\n",
    "    sum = sum + factorialnumber\n",
    "    n *= 5\n",
    "\n",
    "print(sum)\n",
    "    \n",
    "\n",
    "\n"
   ]
  }
 ],
 "metadata": {
  "kernelspec": {
   "display_name": "Python 3",
   "language": "python",
   "name": "python3"
  },
  "language_info": {
   "codemirror_mode": {
    "name": "ipython",
    "version": 3
   },
   "file_extension": ".py",
   "mimetype": "text/x-python",
   "name": "python",
   "nbconvert_exporter": "python",
   "pygments_lexer": "ipython3",
   "version": "3.12.8"
  }
 },
 "nbformat": 4,
 "nbformat_minor": 5
}
