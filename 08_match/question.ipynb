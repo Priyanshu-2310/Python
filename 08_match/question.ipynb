{
 "cells": [
  {
   "cell_type": "code",
   "execution_count": null,
   "id": "dd32a43e",
   "metadata": {},
   "outputs": [],
   "source": [
    "# 1.  Match a number and print if it's even or odd using match-case.\n",
    "\n",
    "\n",
    "\n",
    "num = int(input(\"Enter Your Number = \"))\n",
    "\n",
    "match (num % 2) :\n",
    "     case 0: \n",
    "          print(\"even\")\n",
    "     \n",
    "     case 1: \n",
    "          print(\"odd\")\n",
    "\n",
    "\n"
   ]
  },
  {
   "cell_type": "code",
   "execution_count": null,
   "id": "dd92a449",
   "metadata": {},
   "outputs": [],
   "source": [
    "# Match a day name (\"Monday\", \"Tuesday\", etc.) and print if it's a weekday or weekend.\n",
    "\n",
    "\n",
    "num = int(input(\"enter your number = \"))\n",
    "\n",
    "match num:\n",
    "    case 1: \n",
    "        print(\"Monday\")\n",
    "    \n",
    "    case 2: \n",
    "        print(\"Tuesday\")\n",
    "\n",
    "    case 3:\n",
    "        print(\"Wednesday\")\n",
    "\n",
    "    case 4:\n",
    "        print(\"Thursday\")\n",
    "    \n",
    "    case 5:\n",
    "        print(\"Friday\")\n",
    "\n",
    "    case 6:\n",
    "        print(\"Saturday\")\n",
    "    \n",
    "    case 7:\n",
    "        print(\"sunday\")\n",
    "    \n",
    "    case _:\n",
    "        print(\"Wrong Number pressed\")"
   ]
  },
  {
   "cell_type": "code",
   "execution_count": null,
   "id": "27f67ea0",
   "metadata": {},
   "outputs": [],
   "source": []
  }
 ],
 "metadata": {
  "language_info": {
   "name": "python"
  }
 },
 "nbformat": 4,
 "nbformat_minor": 5
}
