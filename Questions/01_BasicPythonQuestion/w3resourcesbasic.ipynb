{
 "cells": [
  {
   "cell_type": "code",
   "execution_count": 1,
   "id": "317bbcd5",
   "metadata": {},
   "outputs": [
    {
     "name": "stdout",
     "output_type": "stream",
     "text": [
      "72\n"
     ]
    }
   ],
   "source": [
    "# 1. Triple Sum for Same Values\n",
    "\n",
    "# Write a C++ program to compute the sum of two given integer values. If the two values are the same, then return triple their sum.\n",
    "# Sample Input\n",
    "# 1, 2\n",
    "# 3, 2\n",
    "# 2, 2\n",
    "# Sample Output:Computer programming courses\n",
    "# 3\n",
    "# 5\n",
    "# 12\n",
    "\n",
    "num1 = int(input(\"Enter Your First Number = \"))\n",
    "num2 = int(input(\"Enter Your Second Number = \"))\n",
    "total = num1+num2\n",
    "\n",
    "if(num1 == num2):\n",
    "    print(3*(total))\n",
    "\n",
    "else: \n",
    "    print(total)\n",
    "\n"
   ]
  },
  {
   "cell_type": "code",
   "execution_count": null,
   "id": "3975f178",
   "metadata": {},
   "outputs": [],
   "source": [
    "# 2. Absolute Difference with 51\n",
    "\n",
    "# Write a python program to find the absolute difference between n and 51. If n is greater than 51 return triple the absolute difference.\n",
    "# Sample Input:\n",
    "# 53\n",
    "# 30\n",
    "# 51\n",
    "# Sample Output:\n",
    "# 6\n",
    "# 21\n",
    "# 0\n",
    "\n",
    "num1 = int(input(\"Enter Your First Number = \"))\n",
    "num2 = 51\n",
    "\n",
    "if(num1> num2):\n",
    "    result = 3 * (num1 - num2)\n",
    "    print(result)\n",
    "\n",
    "else: \n",
    "    result = num2 - num1\n",
    "    print(result)"
   ]
  },
  {
   "cell_type": "code",
   "execution_count": null,
   "id": "0be5d510",
   "metadata": {},
   "outputs": [],
   "source": [
    "# 3. Check 30 or Sum 30\n",
    "\n",
    "# Write a C++ program to check two given integers, and return true if one of them is 30 or if their sum is 30.\n",
    "# Sample Input:\n",
    "# 30, 0\n",
    "# 25, 5\n",
    "# 20, 30\n",
    "# 20, 25\n",
    "# Sample Output:\n",
    "# 1\n",
    "# 1\n",
    "# 1\n",
    "\n",
    "num1 = int(input(\"Enter Your First Number = \"))\n",
    "num2 = int(input(\"Enter Your Second Number = \"))\n",
    "\n",
    "if (num1 == 30) or (num2 == 30):\n",
    "    print(1)\n",
    "\n",
    "elif (num1 + num2 == 30):\n",
    "    print(1)\n",
    "\n",
    "else:\n",
    "    print(0)\n"
   ]
  },
  {
   "cell_type": "code",
   "execution_count": 2,
   "id": "584541bd",
   "metadata": {},
   "outputs": [
    {
     "name": "stdout",
     "output_type": "stream",
     "text": [
      "ifHello\n"
     ]
    }
   ],
   "source": [
    "# Write a C++ program to create a string where 'if' is added to the front of a given string. If the string already begins with 'if', return the string unchanged.\n",
    "# Sample Input:\n",
    "# \"if else\"\n",
    "# \"else\"\n",
    "# Sample Output:\n",
    "# if else\n",
    "# if else\n",
    "\n",
    "str = \"Hello\"\n",
    "\n",
    "if(str[0:2] == 'if'):\n",
    "    print(str)\n",
    "\n",
    "else:\n",
    "    print('if' + str)\n"
   ]
  },
  {
   "cell_type": "code",
   "execution_count": null,
   "id": "b2d4265b",
   "metadata": {},
   "outputs": [],
   "source": [
    "# Write a C++ program to exchange the first and last characters in a given string and return the result string.\n",
    "# Sample Input:\n",
    "# \"abcd\"\n",
    "# \"a\"\n",
    "# \"xy\"\n",
    "# Sample output:\n",
    "# dbca\n",
    "# a\n",
    "# yx\n",
    "\n",
    "str = input(\"Enter Your String = \")\n"
   ]
  }
 ],
 "metadata": {
  "kernelspec": {
   "display_name": "Python 3",
   "language": "python",
   "name": "python3"
  },
  "language_info": {
   "codemirror_mode": {
    "name": "ipython",
    "version": 3
   },
   "file_extension": ".py",
   "mimetype": "text/x-python",
   "name": "python",
   "nbconvert_exporter": "python",
   "pygments_lexer": "ipython3",
   "version": "3.12.8"
  }
 },
 "nbformat": 4,
 "nbformat_minor": 5
}
